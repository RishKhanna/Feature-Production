{
 "cells": [
  {
   "cell_type": "code",
   "execution_count": 4,
   "id": "cd694958-5984-431b-8628-e7fc6866d595",
   "metadata": {
    "tags": []
   },
   "outputs": [
    {
     "name": "stderr",
     "output_type": "stream",
     "text": [
      "100%|████████████████████████████████████████| 100/100 [00:00<00:00, 757.07it/s]"
     ]
    },
    {
     "name": "stdout",
     "output_type": "stream",
     "text": [
      "Generation 99: Best fitness = 9.986\n"
     ]
    },
    {
     "name": "stderr",
     "output_type": "stream",
     "text": [
      "\n"
     ]
    }
   ],
   "source": [
    "import torch\n",
    "import random\n",
    "from tqdm import tqdm\n",
    "\n",
    "# Set the random seed for reproducibility\n",
    "random.seed(42)\n",
    "\n",
    "# Define the target vectors\n",
    "target1 = torch.tensor([1, 3, 5, 7, 9, 7])\n",
    "target2 = torch.tensor([2, 4, 6])\n",
    "\n",
    "# Define the size of the population and the number of generations\n",
    "pop_size = 10\n",
    "num_generations = 100\n",
    "\n",
    "# Define the mutation rate\n",
    "mutation_rate = 0.1\n",
    "\n",
    "# Define the fitness function\n",
    "def fitness(individual):\n",
    "    # Calculate the mean squared error between the individual and the target vectors\n",
    "    mse1 = torch.mean((individual[:len(target1)] - target1) ** 2)\n",
    "    mse2 = torch.mean((individual[len(target1):] - target2) ** 2)\n",
    "    return 1 / (mse1 + mse2 + 1e-6)\n",
    "\n",
    "# Define the crossover function\n",
    "def crossover(parent1, parent2):\n",
    "    # Choose a random crossover point\n",
    "    crossover_point = random.randint(1, len(parent1) + len(parent2) - 2)\n",
    "    \n",
    "    # Create the child by concatenating the first part of parent1 with the second part of parent2\n",
    "    child = torch.cat([parent1[:crossover_point], parent2[crossover_point:]])\n",
    "\n",
    "    return child\n",
    "\n",
    "# Define the mutation function\n",
    "def mutation(individual):\n",
    "    for i in range(len(individual)):\n",
    "        if random.random() < mutation_rate:\n",
    "            individual[i] += torch.randn(1)[0]\n",
    "    \n",
    "    return individual\n",
    "\n",
    "# Initialize the population\n",
    "population = [torch.randn(len(target1) + len(target2)) for _ in range(pop_size)]\n",
    "\n",
    "# Evolution loop\n",
    "for generation in tqdm(range(num_generations)):\n",
    "    # Evaluate the fitness of each individual\n",
    "    fitnesses = [fitness(individual) for individual in population]\n",
    "    \n",
    "    # Select the parents for the next generation using tournament selection\n",
    "    parents = []\n",
    "    for _ in range(pop_size):\n",
    "        tournament = random.sample(range(pop_size), 2)\n",
    "        parent = population[tournament[0]] if fitnesses[tournament[0]] > fitnesses[tournament[1]] else population[tournament[1]]\n",
    "        parents.append(parent)\n",
    "    \n",
    "    # Create the next generation by performing crossover and mutation on the parents\n",
    "    children = []\n",
    "    for i in range(0, pop_size, 2):\n",
    "        child1 = crossover(parents[i], parents[i+1])\n",
    "        child2 = crossover(parents[i+1], parents[i])\n",
    "        child1 = mutation(child1)\n",
    "        child2 = mutation(child2)\n",
    "        children.append(child1)\n",
    "        children.append(child2)\n",
    "    \n",
    "    # Replace the old population with the new generation\n",
    "    population = children\n",
    "    \n",
    "# Print the best fitness in each generation\n",
    "best_fitness = max(fitnesses)\n",
    "print(f\"Generation {generation}: Best fitness = {best_fitness:.3f}\")"
   ]
  },
  {
   "cell_type": "code",
   "execution_count": null,
   "id": "b8b7fb66-afe0-40d2-9104-0df8c78b3427",
   "metadata": {},
   "outputs": [],
   "source": []
  }
 ],
 "metadata": {
  "kernelspec": {
   "display_name": "Python 3 (ipykernel)",
   "language": "python",
   "name": "python3"
  },
  "language_info": {
   "codemirror_mode": {
    "name": "ipython",
    "version": 3
   },
   "file_extension": ".py",
   "mimetype": "text/x-python",
   "name": "python",
   "nbconvert_exporter": "python",
   "pygments_lexer": "ipython3",
   "version": "3.9.16"
  }
 },
 "nbformat": 4,
 "nbformat_minor": 5
}
